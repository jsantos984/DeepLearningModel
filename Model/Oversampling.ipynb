{
  "cells": [
    {
      "cell_type": "code",
      "execution_count": null,
      "metadata": {
        "id": "Sx5lhQB9A8nR",
        "outputId": "7ab2fd1c-2387-4794-808f-ee8fa53495a5"
      },
      "outputs": [
        {
          "name": "stdout",
          "output_type": "stream",
          "text": [
            "Initial Image Count: NORMAL = 1341, PNEUMONIA = 3875\n",
            "Oversampling chest_xray_Raw/train\\NORMAL by duplicating 2534 images.\n",
            "Updated Image Count: NORMAL = 3875, PNEUMONIA = 3875\n"
          ]
        }
      ],
      "source": [
        "\n",
        "import os\n",
        "import shutil\n",
        "from glob import glob\n",
        "import random\n",
        "\n",
        "# Paths to training directories for each class\n",
        "TRAIN_DIR = 'chest_xray_Raw/train'\n",
        "NORMAL_DIR = os.path.join(TRAIN_DIR, 'NORMAL')\n",
        "PNEUMONIA_DIR = os.path.join(TRAIN_DIR, 'PNEUMONIA')\n",
        "\n",
        "# Get the list of image files for each class (adjust file extension if necessary)\n",
        "normal_files = glob(os.path.join(NORMAL_DIR, '*.jpeg'))\n",
        "pneumonia_files = glob(os.path.join(PNEUMONIA_DIR, '*.jpeg'))\n",
        "\n",
        "# Count the number of images in each class\n",
        "normal_count = len(normal_files)\n",
        "pneumonia_count = len(pneumonia_files)\n",
        "\n",
        "print(f\"Initial Image Count: NORMAL = {normal_count}, PNEUMONIA = {pneumonia_count}\")\n",
        "\n",
        "# Determine the minority and majority classes\n",
        "if normal_count < pneumonia_count:\n",
        "    minority_files = normal_files\n",
        "    minority_dir = NORMAL_DIR\n",
        "    majority_count = pneumonia_count\n",
        "else:\n",
        "    minority_files = pneumonia_files\n",
        "    minority_dir = PNEUMONIA_DIR\n",
        "    majority_count = normal_count\n",
        "\n",
        "# Calculate the difference to achieve balance\n",
        "oversample_count = majority_count - len(minority_files)\n",
        "print(f\"Oversampling {minority_dir} by duplicating {oversample_count} images.\")\n",
        "\n",
        "# Oversample by duplicating images from the minority class\n",
        "for i in range(oversample_count):\n",
        "    img_path = random.choice(minority_files)  # Randomly select an image\n",
        "    img_name = os.path.basename(img_path)  # Extract the original image name\n",
        "    new_img_name = f\"aug_{i}_{img_name}\"  # Create a unique name for the duplicate\n",
        "    new_img_path = os.path.join(minority_dir, new_img_name)\n",
        "    shutil.copy(img_path, new_img_path)  # Copy the image to the target directory\n",
        "\n",
        "# Verify and display the new distribution\n",
        "new_normal_count = len(glob(os.path.join(NORMAL_DIR, '*.jpeg')))\n",
        "new_pneumonia_count = len(glob(os.path.join(PNEUMONIA_DIR, '*.jpeg')))\n",
        "\n",
        "print(f\"Updated Image Count: NORMAL = {new_normal_count}, PNEUMONIA = {new_pneumonia_count}\")\n"
      ]
    },
    {
      "cell_type": "code",
      "execution_count": null,
      "metadata": {
        "id": "QvKDPR1iA8nT"
      },
      "outputs": [],
      "source": []
    }
  ],
  "metadata": {
    "kernelspec": {
      "display_name": "base",
      "language": "python",
      "name": "python3"
    },
    "language_info": {
      "codemirror_mode": {
        "name": "ipython",
        "version": 3
      },
      "file_extension": ".py",
      "mimetype": "text/x-python",
      "name": "python",
      "nbconvert_exporter": "python",
      "pygments_lexer": "ipython3",
      "version": "3.11.4"
    },
    "orig_nbformat": 4,
    "colab": {
      "provenance": []
    }
  },
  "nbformat": 4,
  "nbformat_minor": 0
}